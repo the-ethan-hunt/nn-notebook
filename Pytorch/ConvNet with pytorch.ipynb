{
 "cells": [
  {
   "cell_type": "code",
   "execution_count": 1,
   "metadata": {},
   "outputs": [],
   "source": [
    "%reload_ext autoreload\n",
    "%autoreload 2\n",
    "%matplotlib inline"
   ]
  },
  {
   "cell_type": "code",
   "execution_count": 3,
   "metadata": {},
   "outputs": [],
   "source": [
    "import torch\n",
    "import torch.nn as nn\n",
    "import torch.nn.functional as F\n",
    "import torch.optim as optim\n",
    "from torchvision import datasets, transforms"
   ]
  },
  {
   "cell_type": "code",
   "execution_count": 22,
   "metadata": {},
   "outputs": [],
   "source": [
    "class Net(nn.Module):\n",
    "    def __init__(self):\n",
    "        super().__init__()\n",
    "        self.conv1 = nn.Conv2d(1, 10, kernel_size=5)\n",
    "        self.conv2 = nn.Conv2d(10, 20, kernel_size=5)\n",
    "        self.dropout = nn.Dropout2d()\n",
    "        self.fc1 = nn.Linear(320, 50)\n",
    "        self.fc2 = nn.Linear(50, 10)\n",
    "    def forward(self, x):\n",
    "        x = F.relu(F.max_pool2d(self.conv1(x), 2))\n",
    "        x = F.relu(F.max_pool2d(self.conv2(x), 2))\n",
    "        x = x.view(-1, 320)\n",
    "        x = F.relu(self.fc1(x))\n",
    "        x = self.dropout(x)\n",
    "        x = self.fc2(x)\n",
    "        return F.log_softmax(x, dim=1)"
   ]
  },
  {
   "cell_type": "code",
   "execution_count": 33,
   "metadata": {},
   "outputs": [],
   "source": [
    "def train(model, device, train_loader, optimizer, epoch, log_interval):\n",
    "    model.train()\n",
    "    for i, (data, target) in enumerate(train_loader):\n",
    "        data, target = data.to(device), target.to(device)\n",
    "        optimizer.zero_grad()\n",
    "        output = model(data)\n",
    "        loss = F.nll_loss(output, target)\n",
    "        loss.backward()\n",
    "        optimizer.step()\n",
    "        if i%log_interval==0:\n",
    "            print('Train Epoch: {}/{} \\tLoss: {:.6f}'.format(i*len(data), len(train_loader.dataset), loss.item()))"
   ]
  },
  {
   "cell_type": "code",
   "execution_count": 43,
   "metadata": {},
   "outputs": [],
   "source": [
    "def test(model, device, test_loader):\n",
    "    model.eval()\n",
    "    test_loss = 0\n",
    "    correct = 0\n",
    "    with torch.no_grad():\n",
    "        for data, target in test_loader:\n",
    "            data, target = data.to(device), target.to(device)\n",
    "            output = model(data)\n",
    "            test_loss+=F.nll_loss(output, target).item()\n",
    "            pred = output.max(1, keepdim=True)[1]\n",
    "            correct+=pred.eq(target.view_as(pred)).sum().item()\n",
    "    test_loss/=len(test_loader.dataset)\n",
    "    print('Test set: Average Loss: {:.4f}, Accuracy: {}'.format(test_loss, 100.*correct/len(test_loader.dataset)))"
   ]
  },
  {
   "cell_type": "code",
   "execution_count": 44,
   "metadata": {},
   "outputs": [],
   "source": [
    "batch_size = 64\n",
    "test_batch_size = 128\n",
    "epochs = 10\n",
    "lr = 0.01\n",
    "log_interval = 100"
   ]
  },
  {
   "cell_type": "code",
   "execution_count": 45,
   "metadata": {},
   "outputs": [],
   "source": [
    "device = torch.device('cuda' if torch.cuda.is_available() else 'cpu')"
   ]
  },
  {
   "cell_type": "code",
   "execution_count": 46,
   "metadata": {},
   "outputs": [],
   "source": [
    "train_transforms = transforms.Compose([\n",
    "    transforms.ToTensor(), \n",
    "    transforms.Normalize((0.1307,), (0.3081,))\n",
    "])"
   ]
  },
  {
   "cell_type": "code",
   "execution_count": 47,
   "metadata": {},
   "outputs": [
    {
     "data": {
      "text/plain": [
       "<torch._C.Generator at 0x7fedb357a510>"
      ]
     },
     "execution_count": 47,
     "metadata": {},
     "output_type": "execute_result"
    }
   ],
   "source": [
    "torch.manual_seed(42)"
   ]
  },
  {
   "cell_type": "code",
   "execution_count": 48,
   "metadata": {},
   "outputs": [],
   "source": [
    "train_loader = torch.utils.data.DataLoader(\n",
    "    datasets.MNIST('../data', train=True, download=True, transform=train_transforms), batch_size=batch_size, shuffle=True\n",
    ")\n",
    "test_loader = torch.utils.data.DataLoader(\n",
    "    datasets.MNIST('../data', train=False, transform=train_transforms), batch_size=test_batch_size, shuffle=True\n",
    ")"
   ]
  },
  {
   "cell_type": "code",
   "execution_count": 49,
   "metadata": {},
   "outputs": [],
   "source": [
    "model = Net().to(device)"
   ]
  },
  {
   "cell_type": "code",
   "execution_count": 51,
   "metadata": {},
   "outputs": [],
   "source": [
    "optimizer = optim.SGD(model.parameters(), lr=lr, momentum=0.5)"
   ]
  },
  {
   "cell_type": "code",
   "execution_count": 52,
   "metadata": {
    "scrolled": true
   },
   "outputs": [
    {
     "name": "stdout",
     "output_type": "stream",
     "text": [
      "Train Epoch: 0/60000 \tLoss: 2.312211\n",
      "Train Epoch: 6400/60000 \tLoss: 1.897876\n",
      "Train Epoch: 12800/60000 \tLoss: 0.878753\n",
      "Train Epoch: 19200/60000 \tLoss: 0.580373\n",
      "Train Epoch: 25600/60000 \tLoss: 0.645617\n",
      "Train Epoch: 32000/60000 \tLoss: 0.545144\n",
      "Train Epoch: 38400/60000 \tLoss: 0.468785\n",
      "Train Epoch: 44800/60000 \tLoss: 0.513736\n",
      "Train Epoch: 51200/60000 \tLoss: 0.315046\n",
      "Train Epoch: 57600/60000 \tLoss: 0.359710\n",
      "Test set: Average Loss: 0.0012, Accuracy: 95.39\n",
      "Train Epoch: 0/60000 \tLoss: 0.220207\n",
      "Train Epoch: 6400/60000 \tLoss: 0.269178\n",
      "Train Epoch: 12800/60000 \tLoss: 0.406765\n",
      "Train Epoch: 19200/60000 \tLoss: 0.270464\n",
      "Train Epoch: 25600/60000 \tLoss: 0.253265\n",
      "Train Epoch: 32000/60000 \tLoss: 0.332967\n",
      "Train Epoch: 38400/60000 \tLoss: 0.634007\n",
      "Train Epoch: 44800/60000 \tLoss: 0.189499\n",
      "Train Epoch: 51200/60000 \tLoss: 0.323913\n",
      "Train Epoch: 57600/60000 \tLoss: 0.253260\n",
      "Test set: Average Loss: 0.0008, Accuracy: 96.83\n",
      "Train Epoch: 0/60000 \tLoss: 0.273724\n",
      "Train Epoch: 6400/60000 \tLoss: 0.331078\n",
      "Train Epoch: 12800/60000 \tLoss: 0.158263\n",
      "Train Epoch: 19200/60000 \tLoss: 0.147153\n",
      "Train Epoch: 25600/60000 \tLoss: 0.128513\n",
      "Train Epoch: 32000/60000 \tLoss: 0.274202\n",
      "Train Epoch: 38400/60000 \tLoss: 0.199152\n",
      "Train Epoch: 44800/60000 \tLoss: 0.090795\n",
      "Train Epoch: 51200/60000 \tLoss: 0.270309\n",
      "Train Epoch: 57600/60000 \tLoss: 0.346368\n",
      "Test set: Average Loss: 0.0006, Accuracy: 97.55\n",
      "Train Epoch: 0/60000 \tLoss: 0.150407\n",
      "Train Epoch: 6400/60000 \tLoss: 0.069254\n",
      "Train Epoch: 12800/60000 \tLoss: 0.097507\n",
      "Train Epoch: 19200/60000 \tLoss: 0.184445\n",
      "Train Epoch: 25600/60000 \tLoss: 0.247489\n",
      "Train Epoch: 32000/60000 \tLoss: 0.087513\n",
      "Train Epoch: 38400/60000 \tLoss: 0.162322\n",
      "Train Epoch: 44800/60000 \tLoss: 0.154607\n",
      "Train Epoch: 51200/60000 \tLoss: 0.369593\n",
      "Train Epoch: 57600/60000 \tLoss: 0.177732\n",
      "Test set: Average Loss: 0.0005, Accuracy: 97.78\n",
      "Train Epoch: 0/60000 \tLoss: 0.098299\n",
      "Train Epoch: 6400/60000 \tLoss: 0.211608\n",
      "Train Epoch: 12800/60000 \tLoss: 0.098316\n",
      "Train Epoch: 19200/60000 \tLoss: 0.286920\n",
      "Train Epoch: 25600/60000 \tLoss: 0.085037\n",
      "Train Epoch: 32000/60000 \tLoss: 0.124509\n",
      "Train Epoch: 38400/60000 \tLoss: 0.145677\n",
      "Train Epoch: 44800/60000 \tLoss: 0.267225\n",
      "Train Epoch: 51200/60000 \tLoss: 0.115563\n",
      "Train Epoch: 57600/60000 \tLoss: 0.094387\n",
      "Test set: Average Loss: 0.0005, Accuracy: 98.2\n",
      "Train Epoch: 0/60000 \tLoss: 0.144817\n",
      "Train Epoch: 6400/60000 \tLoss: 0.123162\n",
      "Train Epoch: 12800/60000 \tLoss: 0.188097\n",
      "Train Epoch: 19200/60000 \tLoss: 0.109865\n",
      "Train Epoch: 25600/60000 \tLoss: 0.069000\n",
      "Train Epoch: 32000/60000 \tLoss: 0.110488\n",
      "Train Epoch: 38400/60000 \tLoss: 0.077497\n",
      "Train Epoch: 44800/60000 \tLoss: 0.147431\n",
      "Train Epoch: 51200/60000 \tLoss: 0.058255\n",
      "Train Epoch: 57600/60000 \tLoss: 0.128848\n",
      "Test set: Average Loss: 0.0004, Accuracy: 98.36\n",
      "Train Epoch: 0/60000 \tLoss: 0.037734\n",
      "Train Epoch: 6400/60000 \tLoss: 0.135350\n",
      "Train Epoch: 12800/60000 \tLoss: 0.126198\n",
      "Train Epoch: 19200/60000 \tLoss: 0.129119\n",
      "Train Epoch: 25600/60000 \tLoss: 0.117699\n",
      "Train Epoch: 32000/60000 \tLoss: 0.071155\n",
      "Train Epoch: 38400/60000 \tLoss: 0.068261\n",
      "Train Epoch: 44800/60000 \tLoss: 0.186358\n",
      "Train Epoch: 51200/60000 \tLoss: 0.111527\n",
      "Train Epoch: 57600/60000 \tLoss: 0.153363\n",
      "Test set: Average Loss: 0.0004, Accuracy: 98.37\n",
      "Train Epoch: 0/60000 \tLoss: 0.063398\n",
      "Train Epoch: 6400/60000 \tLoss: 0.026816\n",
      "Train Epoch: 12800/60000 \tLoss: 0.183353\n",
      "Train Epoch: 19200/60000 \tLoss: 0.088810\n",
      "Train Epoch: 25600/60000 \tLoss: 0.502924\n",
      "Train Epoch: 32000/60000 \tLoss: 0.143970\n",
      "Train Epoch: 38400/60000 \tLoss: 0.125902\n",
      "Train Epoch: 44800/60000 \tLoss: 0.037833\n",
      "Train Epoch: 51200/60000 \tLoss: 0.125292\n",
      "Train Epoch: 57600/60000 \tLoss: 0.053743\n",
      "Test set: Average Loss: 0.0004, Accuracy: 98.58\n",
      "Train Epoch: 0/60000 \tLoss: 0.043384\n",
      "Train Epoch: 6400/60000 \tLoss: 0.060335\n",
      "Train Epoch: 12800/60000 \tLoss: 0.190283\n",
      "Train Epoch: 19200/60000 \tLoss: 0.099343\n",
      "Train Epoch: 25600/60000 \tLoss: 0.103799\n",
      "Train Epoch: 32000/60000 \tLoss: 0.146806\n",
      "Train Epoch: 38400/60000 \tLoss: 0.154590\n",
      "Train Epoch: 44800/60000 \tLoss: 0.070475\n",
      "Train Epoch: 51200/60000 \tLoss: 0.062864\n",
      "Train Epoch: 57600/60000 \tLoss: 0.083413\n",
      "Test set: Average Loss: 0.0004, Accuracy: 98.42\n",
      "Train Epoch: 0/60000 \tLoss: 0.085707\n",
      "Train Epoch: 6400/60000 \tLoss: 0.035844\n",
      "Train Epoch: 12800/60000 \tLoss: 0.101576\n",
      "Train Epoch: 19200/60000 \tLoss: 0.109907\n",
      "Train Epoch: 25600/60000 \tLoss: 0.134250\n",
      "Train Epoch: 32000/60000 \tLoss: 0.112766\n",
      "Train Epoch: 38400/60000 \tLoss: 0.091012\n",
      "Train Epoch: 44800/60000 \tLoss: 0.297084\n",
      "Train Epoch: 51200/60000 \tLoss: 0.062738\n",
      "Train Epoch: 57600/60000 \tLoss: 0.076218\n",
      "Test set: Average Loss: 0.0004, Accuracy: 98.53\n"
     ]
    }
   ],
   "source": [
    "for epoch in range(epochs):\n",
    "    train(model, device, train_loader, optimizer, epoch, log_interval)\n",
    "    test(model, device, test_loader)"
   ]
  },
  {
   "cell_type": "code",
   "execution_count": null,
   "metadata": {},
   "outputs": [],
   "source": []
  }
 ],
 "metadata": {
  "kernelspec": {
   "display_name": "Python 3",
   "language": "python",
   "name": "python3"
  },
  "language_info": {
   "codemirror_mode": {
    "name": "ipython",
    "version": 3
   },
   "file_extension": ".py",
   "mimetype": "text/x-python",
   "name": "python",
   "nbconvert_exporter": "python",
   "pygments_lexer": "ipython3",
   "version": "3.7.0"
  }
 },
 "nbformat": 4,
 "nbformat_minor": 2
}
